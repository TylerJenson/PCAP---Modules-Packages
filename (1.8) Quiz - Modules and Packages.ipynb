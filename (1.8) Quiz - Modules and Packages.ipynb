{
 "cells": [
  {
   "cell_type": "code",
   "execution_count": 1,
   "id": "c7c9007b",
   "metadata": {},
   "outputs": [],
   "source": [
    "# (1) what is a namespace?\n",
    "\n",
    "# an abstract space in which names for objects and other language elements exist"
   ]
  },
  {
   "cell_type": "code",
   "execution_count": 2,
   "id": "74436d38",
   "metadata": {},
   "outputs": [],
   "source": [
    "# (2) how can you indicate that a given module entry should be considered private?\n",
    "\n",
    "# start the name of the entity with _ or __ (single or double underscore sign)"
   ]
  },
  {
   "cell_type": "code",
   "execution_count": 3,
   "id": "ed0cba9c",
   "metadata": {},
   "outputs": [],
   "source": [
    "# (3) what is the name of the python function that returns a list of all entities available in a module?\n",
    "\n",
    "# dir()"
   ]
  },
  {
   "cell_type": "code",
   "execution_count": 4,
   "id": "f4db8af0",
   "metadata": {},
   "outputs": [],
   "source": [
    "# (4) There is a function named extra() in a module named surprise. Which of the following will successfully invoke \n",
    "# the function?\n",
    "\n",
    "# import surprise\n",
    "# surprise.extra()"
   ]
  },
  {
   "cell_type": "code",
   "execution_count": 5,
   "id": "222f0aaf",
   "metadata": {},
   "outputs": [],
   "source": [
    "# (5) Talking about the platform module, what is the difference between version() and python_version_tuple()\n",
    "\n",
    "# version() returns the system release version\n",
    "# python_version_tuple() returns the Python version"
   ]
  },
  {
   "cell_type": "code",
   "execution_count": 6,
   "id": "5d88d946",
   "metadata": {},
   "outputs": [
    {
     "data": {
      "text/plain": [
       "'\\nimport math\\n \\ntrue_or_false = math.trunc(3.4) != math.ceil(3.4)\\nprint(int(true_or_false))\\n'"
      ]
     },
     "execution_count": 6,
     "metadata": {},
     "output_type": "execute_result"
    }
   ],
   "source": [
    "# (6) What will be the output of the following code?\n",
    "\"\"\"\n",
    "import math\n",
    " \n",
    "true_or_false = math.trunc(3.4) != math.ceil(3.4)\n",
    "print(int(true_or_false))\n",
    "\"\"\"\n",
    "\n",
    "# 1"
   ]
  },
  {
   "cell_type": "code",
   "execution_count": 7,
   "id": "90bc6766",
   "metadata": {},
   "outputs": [],
   "source": [
    "# (7) What is the name of the directory that Python creates when a module is first imported?\n",
    "\n",
    "# __pycache__"
   ]
  },
  {
   "cell_type": "code",
   "execution_count": 8,
   "id": "b30b030c",
   "metadata": {},
   "outputs": [],
   "source": [
    "# (8) what is the result of running the following code?\n",
    "\n",
    "# from alfa.charlie import bravo\n",
    "\n",
    "# python imports entity bravo from module charlie in package alfa"
   ]
  },
  {
   "cell_type": "code",
   "execution_count": 9,
   "id": "a914abd2",
   "metadata": {},
   "outputs": [],
   "source": [
    "# (9) what happens when a module is imported\n",
    "\n",
    "# its content is executed (exactly once)"
   ]
  },
  {
   "cell_type": "code",
   "execution_count": 10,
   "id": "ef44263c",
   "metadata": {},
   "outputs": [],
   "source": [
    "# (10) talking about the random module, what is the usage of the seed() function?\n",
    "\n",
    "# used to initialize the random number generator"
   ]
  },
  {
   "cell_type": "code",
   "execution_count": 11,
   "id": "885c8814",
   "metadata": {},
   "outputs": [],
   "source": [
    "# (11) what does the choice() function from the random module do?\n",
    "\n",
    "# returns a randomly selected element from the provided sequence"
   ]
  },
  {
   "cell_type": "code",
   "execution_count": 13,
   "id": "c37a40a4",
   "metadata": {},
   "outputs": [
    {
     "name": "stdout",
     "output_type": "stream",
     "text": [
      "0.7967418372971694\n",
      "0.8157454045444543\n"
     ]
    }
   ],
   "source": [
    "# (12) what will the output be from the following code\n",
    "\n",
    "\n",
    "import random\n",
    "\n",
    "for i in range(2):\n",
    "  print(random.random())\n",
    "\n",
    "# two values between 0 - 1.0\n"
   ]
  }
 ],
 "metadata": {
  "kernelspec": {
   "display_name": "Python 3 (ipykernel)",
   "language": "python",
   "name": "python3"
  },
  "language_info": {
   "codemirror_mode": {
    "name": "ipython",
    "version": 3
   },
   "file_extension": ".py",
   "mimetype": "text/x-python",
   "name": "python",
   "nbconvert_exporter": "python",
   "pygments_lexer": "ipython3",
   "version": "3.10.9"
  }
 },
 "nbformat": 4,
 "nbformat_minor": 5
}
