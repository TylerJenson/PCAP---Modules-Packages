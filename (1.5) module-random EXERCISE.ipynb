{
 "cells": [
  {
   "cell_type": "code",
   "execution_count": 1,
   "id": "b13675bb",
   "metadata": {},
   "outputs": [
    {
     "data": {
      "text/plain": [
       "'\\nUsing \"random\"\\nNote: Coding exercises are in beta. Read more.\\n\\nLet\\'s write a simple function that will help organise lotteries. The function will generate a list of random numbers \\n(to simulate lottery tickets), and it will also choose one number from the generated list (to simulate the winning ticket).\\n\\nWrite a function named generate_tickets that will accept two integer arguments: ticket_count and max_number. \\nThe function should return a tuple with exactly two elements:\\n\\nfirst element: a list of random unique integer numbers in the range from 0 (inclusive) to max_number (exclusive); \\nthe number of elements is provided in the ticket_count argument\\n\\nsecond element: one random element from the generated list of numbers\\n\\nCalling generate_tickets(5, 10) should generate 5 random unique integers in the range from 0 (inclusive) to 10 (exclusive). \\nAn example return value for this invocation could be:\\n\\n([2, 8, 9, 3, 0], 8)\\n\\nIn this case, the random numbers are: 2, 8, 9, 3, 0. The winning number is 8.\\n\\nNote: You can assume that the arguments of the function are always correct \\n(i.e. you always get two correct integers as the input arguments).\\n\\n'"
      ]
     },
     "execution_count": 1,
     "metadata": {},
     "output_type": "execute_result"
    }
   ],
   "source": [
    "\"\"\"\n",
    "Using \"random\"\n",
    "Note: Coding exercises are in beta. Read more.\n",
    "\n",
    "Let's write a simple function that will help organise lotteries. The function will generate a list of random numbers \n",
    "(to simulate lottery tickets), and it will also choose one number from the generated list (to simulate the winning ticket).\n",
    "\n",
    "Write a function named generate_tickets that will accept two integer arguments: ticket_count and max_number. \n",
    "The function should return a tuple with exactly two elements:\n",
    "\n",
    "first element: a list of random unique integer numbers in the range from 0 (inclusive) to max_number (exclusive); \n",
    "the number of elements is provided in the ticket_count argument\n",
    "\n",
    "second element: one random element from the generated list of numbers\n",
    "\n",
    "Calling generate_tickets(5, 10) should generate 5 random unique integers in the range from 0 (inclusive) to 10 (exclusive). \n",
    "An example return value for this invocation could be:\n",
    "\n",
    "([2, 8, 9, 3, 0], 8)\n",
    "\n",
    "In this case, the random numbers are: 2, 8, 9, 3, 0. The winning number is 8.\n",
    "\n",
    "Note: You can assume that the arguments of the function are always correct \n",
    "(i.e. you always get two correct integers as the input arguments).\n",
    "\n",
    "\"\"\""
   ]
  },
  {
   "cell_type": "code",
   "execution_count": 2,
   "id": "c85243ec",
   "metadata": {},
   "outputs": [],
   "source": [
    "import random\n",
    " \n",
    "def generate_tickets(ticket_count, max_number):\n",
    "    list_to_return = random.sample(range(0, max_number), ticket_count)\n",
    "    return (list_to_return, random.sample(list_to_return, 1)[0])"
   ]
  },
  {
   "cell_type": "code",
   "execution_count": 3,
   "id": "e2a9fb08",
   "metadata": {},
   "outputs": [
    {
     "data": {
      "text/plain": [
       "([53, 7, 51, 55, 29, 88, 71, 43, 5, 70], 55)"
      ]
     },
     "execution_count": 3,
     "metadata": {},
     "output_type": "execute_result"
    }
   ],
   "source": [
    "generate_tickets(10, 100)"
   ]
  },
  {
   "cell_type": "code",
   "execution_count": null,
   "id": "88a8d332",
   "metadata": {},
   "outputs": [],
   "source": []
  }
 ],
 "metadata": {
  "kernelspec": {
   "display_name": "Python 3 (ipykernel)",
   "language": "python",
   "name": "python3"
  },
  "language_info": {
   "codemirror_mode": {
    "name": "ipython",
    "version": 3
   },
   "file_extension": ".py",
   "mimetype": "text/x-python",
   "name": "python",
   "nbconvert_exporter": "python",
   "pygments_lexer": "ipython3",
   "version": "3.10.9"
  }
 },
 "nbformat": 4,
 "nbformat_minor": 5
}
