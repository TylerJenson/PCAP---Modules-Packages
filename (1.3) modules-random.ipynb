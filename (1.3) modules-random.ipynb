{
 "cells": [
  {
   "cell_type": "code",
   "execution_count": 2,
   "id": "3b45dd67",
   "metadata": {},
   "outputs": [
    {
     "name": "stdout",
     "output_type": "stream",
     "text": [
      "0.11257234622946144\n",
      "0.5903713123292008\n",
      "0.4262989116448255\n"
     ]
    }
   ],
   "source": [
    "\"\"\"\n",
    "the random module does what the name suggests -- produces random numbers\n",
    "however, they are pseudo random numbers, produced by algorithms --> 'seeds', if you use the same 'seed' you will get the \n",
    "same random numbers\n",
    "you need to know the following functions in the random module\n",
    "    .random(), .seed(), .choice(), .sample()\n",
    "\"\"\" \n",
    "import random \n",
    "# the most general function in the random module is also called 'random', it produces a float value between 0.0 - 1.0\n",
    "\n",
    "print(random.random()) \n",
    "print(random.random())\n",
    "print(random.random())\n",
    "\n",
    "# if you rerun the cell, you will get different numbers\n",
    "    # this is because Python changes the 'seed' for you; based on time"
   ]
  },
  {
   "cell_type": "code",
   "execution_count": 6,
   "id": "f6866af5",
   "metadata": {},
   "outputs": [
    {
     "name": "stdout",
     "output_type": "stream",
     "text": [
      "0.8444218515250481\n",
      "0.7579544029403025\n",
      "0.420571580830845\n"
     ]
    }
   ],
   "source": [
    "import random \n",
    "\n",
    "random.seed(0)\n",
    "\"\"\" we can set the seed ourselves, in this case we set it to 0\"\"\"\n",
    "print(random.random()) \n",
    "print(random.random())\n",
    "print(random.random())\n",
    "\n",
    "# if we rerun the cell like before, the pseudo random values do not change, that's because the seed remains 0\"\"\""
   ]
  },
  {
   "cell_type": "code",
   "execution_count": 2,
   "id": "431d1fb9",
   "metadata": {},
   "outputs": [
    {
     "name": "stdout",
     "output_type": "stream",
     "text": [
      "10\n",
      "Jo\n"
     ]
    }
   ],
   "source": [
    "# 3rd function you need to know '.choice()'\n",
    "\n",
    "# selects a random interval in a list, string\n",
    "\n",
    "import random\n",
    "\n",
    "numbers = [1, 2, 3, 4, 5, 6, 7, 8, 9, 10]\n",
    "names = ['Alen', 'Kate', 'Mary', 'Kate', 'Jo', 'John']\n",
    "\n",
    "print(random.choice(numbers))\n",
    "print(random.choice(names))"
   ]
  },
  {
   "cell_type": "code",
   "execution_count": 3,
   "id": "fc711e0b",
   "metadata": {},
   "outputs": [
    {
     "name": "stdout",
     "output_type": "stream",
     "text": [
      "r\n"
     ]
    }
   ],
   "source": [
    "# another example of '.choice()'\n",
    "\n",
    "import random\n",
    "\n",
    "print(random.choice('Tyler'))"
   ]
  },
  {
   "cell_type": "code",
   "execution_count": 21,
   "id": "e93cc018",
   "metadata": {},
   "outputs": [
    {
     "name": "stdout",
     "output_type": "stream",
     "text": [
      "3\n",
      "5\n",
      "6\n",
      "10\n",
      "8\n",
      "8\n",
      "6\n",
      "3\n",
      "7\n",
      "4\n"
     ]
    }
   ],
   "source": [
    "# using a for loop with choice() function\n",
    "# choice() doesn't care about duplicates when you run it in the for loop\n",
    "# for example, if you select 3 the first time around -- it can be selected again\n",
    "\n",
    "numbers = [1, 2, 3, 4, 5, 6, 7, 8, 9, 10]\n",
    "\n",
    "for i in numbers:\n",
    "    print(random.choice(numbers))"
   ]
  },
  {
   "cell_type": "code",
   "execution_count": 32,
   "id": "78ec2a72",
   "metadata": {},
   "outputs": [
    {
     "data": {
      "text/plain": [
       "['Kate', 'Kate', 'Alen']"
      ]
     },
     "execution_count": 32,
     "metadata": {},
     "output_type": "execute_result"
    }
   ],
   "source": [
    "# 4th function you need to know -- > .sample()\n",
    "# the sample() function doesn't allow duplicates -- it selects from unique indexes (more details below)\n",
    "\n",
    "names = ['Alen', 'Kate', 'Mary', 'Kate', 'Jo', 'John']\n",
    "random.sample(names, 3)"
   ]
  },
  {
   "cell_type": "code",
   "execution_count": null,
   "id": "e8bdfd5f",
   "metadata": {},
   "outputs": [],
   "source": [
    "\"\"\"\n",
    "In the video about the random module, I mentioned that the random.sample function randomly selects the given number of elements \n",
    "without duplicates. To be more precise, the function randomly selects the given number of unique elements (unique indexes) \n",
    "from the list but doesn't check whether the content of the elements are all different.\n",
    "\n",
    "What does it mean in practice? Take a look:\n",
    "\n",
    "random.sample(['Martin', 'John', 'Kate'], 2)\n",
    "\n",
    "The line above will randomly select and return two of the three unique names from the list. You are guaranteed to get two names, and you are guaranteed that they will be two different names since there are no duplicated values in the list.\n",
    "\n",
    "However, take a look at this modified example:\n",
    "\n",
    "random.sample(['Martin', 'John', 'Martin'], 2)\n",
    "\n",
    "Now, the list contains a duplicated value, but random.sample doesn't know that. \n",
    "It can randomly decide to return elements with indexes 0 and 1, and you will get ['Martin', 'John']. \n",
    "However, it can also randomly pick indexes 0 and 2, in which case you will get ['Martin', 'Martin'].\n",
    "\n",
    "    To sum up, random.sample picks elements with UNIQUE INDEXES but doesn't verify whether the elements at these indexes \n",
    "    are unique.\n",
    "\"\"\""
   ]
  }
 ],
 "metadata": {
  "kernelspec": {
   "display_name": "Python 3 (ipykernel)",
   "language": "python",
   "name": "python3"
  },
  "language_info": {
   "codemirror_mode": {
    "name": "ipython",
    "version": 3
   },
   "file_extension": ".py",
   "mimetype": "text/x-python",
   "name": "python",
   "nbconvert_exporter": "python",
   "pygments_lexer": "ipython3",
   "version": "3.10.9"
  }
 },
 "nbformat": 4,
 "nbformat_minor": 5
}
