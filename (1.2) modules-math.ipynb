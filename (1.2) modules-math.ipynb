{
 "cells": [
  {
   "cell_type": "code",
   "execution_count": 1,
   "id": "cf846f5b",
   "metadata": {},
   "outputs": [
    {
     "name": "stdout",
     "output_type": "stream",
     "text": [
      "__doc__\t__loader__\t__name__\t__package__\t__spec__\tacos\tacosh\tasin\tasinh\tatan\tatan2\tatanh\tceil\tcomb\tcopysign\tcos\tcosh\tdegrees\tdist\te\terf\terfc\texp\texpm1\tfabs\tfactorial\tfloor\tfmod\tfrexp\tfsum\tgamma\tgcd\thypot\tinf\tisclose\tisfinite\tisinf\tisnan\tisqrt\tlcm\tldexp\tlgamma\tlog\tlog10\tlog1p\tlog2\tmodf\tnan\tnextafter\tperm\tpi\tpow\tprod\tradians\tremainder\tsin\tsinh\tsqrt\ttan\ttanh\ttau\ttrunc\tulp\t"
     ]
    }
   ],
   "source": [
    "import math\n",
    "\n",
    "for name in dir(math):     # this will show what is in the math module\n",
    "    print(name,end='\\t')"
   ]
  },
  {
   "cell_type": "code",
   "execution_count": 3,
   "id": "79170b06",
   "metadata": {},
   "outputs": [
    {
     "name": "stdout",
     "output_type": "stream",
     "text": [
      "4\n",
      "3\n",
      "3\n"
     ]
    }
   ],
   "source": [
    "# for the PCAP you just need to know 6 functions from the math module, here's the first 3 which are similar to one another\n",
    "\n",
    "# ceil(), floor(), trunc()\n",
    "print(math.ceil(3.6))\n",
    "print(math.floor(3.6))\n",
    "print(math.trunc(3.6))"
   ]
  },
  {
   "cell_type": "code",
   "execution_count": 5,
   "id": "519eef1f",
   "metadata": {},
   "outputs": [
    {
     "name": "stdout",
     "output_type": "stream",
     "text": [
      "4\n",
      "4\n",
      "4\n",
      "3\n",
      "-5\n"
     ]
    }
   ],
   "source": [
    "# ceil() rounds up on the integer value\n",
    "print(math.ceil(3.1))\n",
    "print(math.ceil(3.505))\n",
    "print(math.ceil(3.945))\n",
    "print(math.ceil(3.0)) # doesn't round up, because it's already at 3\n",
    "print(math.ceil(-5.4)) # will round to least negative integer"
   ]
  },
  {
   "cell_type": "code",
   "execution_count": 6,
   "id": "f12773cc",
   "metadata": {},
   "outputs": [
    {
     "name": "stdout",
     "output_type": "stream",
     "text": [
      "3\n",
      "3\n",
      "3\n",
      "3\n",
      "-6\n"
     ]
    }
   ],
   "source": [
    "# floor() rounds down on the integer value\n",
    "print(math.floor(3.1))\n",
    "print(math.floor(3.505))\n",
    "print(math.floor(3.945))\n",
    "print(math.floor(3.0)) \n",
    "print(math.floor(-5.4))"
   ]
  },
  {
   "cell_type": "code",
   "execution_count": 7,
   "id": "e8e3a563",
   "metadata": {},
   "outputs": [
    {
     "name": "stdout",
     "output_type": "stream",
     "text": [
      "3\n",
      "3\n",
      "3\n",
      "3\n",
      "-5\n"
     ]
    }
   ],
   "source": [
    "# trunc() removes decimal part and just returns the integer part of the float\n",
    "print(math.trunc(3.1))\n",
    "print(math.trunc(3.505))\n",
    "print(math.trunc(3.945))\n",
    "print(math.trunc(3.0)) \n",
    "print(math.trunc(-5.4))"
   ]
  },
  {
   "cell_type": "code",
   "execution_count": 8,
   "id": "1da0183b",
   "metadata": {},
   "outputs": [
    {
     "name": "stdout",
     "output_type": "stream",
     "text": [
      "6\n"
     ]
    }
   ],
   "source": [
    "# to recap, ceil(), floor(), trunc() are the first 3 of 6 functions in the math module you need to know\n",
    "\n",
    "#  next, factorial()\n",
    "# example; 3! = 3 * 2 * 1 = 6\n",
    "print(math.factorial(3))"
   ]
  },
  {
   "cell_type": "code",
   "execution_count": 10,
   "id": "b9ecc80c",
   "metadata": {},
   "outputs": [
    {
     "name": "stdout",
     "output_type": "stream",
     "text": [
      "4.0\n"
     ]
    }
   ],
   "source": [
    "# 5th of 6 \n",
    "\n",
    "# sqrt()\n",
    "print(math.sqrt(16))\n",
    "\n",
    "# note: even though we provide an integer as the parameter, we get a float as a result"
   ]
  },
  {
   "cell_type": "code",
   "execution_count": 11,
   "id": "ecd632b2",
   "metadata": {},
   "outputs": [
    {
     "name": "stdout",
     "output_type": "stream",
     "text": [
      "5.0\n"
     ]
    }
   ],
   "source": [
    "# 6th of 6\n",
    "\n",
    "# hypot() finds the hypotenuse\n",
    "print(math.hypot(3,4))\n",
    "\n",
    "# note: even though we provide integers as the parameters, we get a float as a result"
   ]
  },
  {
   "cell_type": "code",
   "execution_count": null,
   "id": "ef43dd14",
   "metadata": {},
   "outputs": [],
   "source": []
  }
 ],
 "metadata": {
  "kernelspec": {
   "display_name": "Python 3 (ipykernel)",
   "language": "python",
   "name": "python3"
  },
  "language_info": {
   "codemirror_mode": {
    "name": "ipython",
    "version": 3
   },
   "file_extension": ".py",
   "mimetype": "text/x-python",
   "name": "python",
   "nbconvert_exporter": "python",
   "pygments_lexer": "ipython3",
   "version": "3.10.9"
  }
 },
 "nbformat": 4,
 "nbformat_minor": 5
}
