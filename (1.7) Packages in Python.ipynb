{
 "cells": [
  {
   "cell_type": "code",
   "execution_count": null,
   "id": "c06e7a79",
   "metadata": {},
   "outputs": [],
   "source": [
    "\"\"\"\n",
    "packages are folders that contains various modules as files\n",
    "\n",
    "the example that was shown in the video -->\n",
    "\n",
    "project_modules (main folder) --> 3 subset folders: communication, core, messaging --> within the subset folders there were\n",
    "python files\n",
    "\n",
    "For example, this is how you would use the modules within the package\n",
    "\n",
    "import project_modules.communication.com\n",
    "\n",
    "project_modules.communication.com.my_fun() # this invokes the function\n",
    "\n",
    "\"\"\""
   ]
  }
 ],
 "metadata": {
  "kernelspec": {
   "display_name": "Python 3 (ipykernel)",
   "language": "python",
   "name": "python3"
  },
  "language_info": {
   "codemirror_mode": {
    "name": "ipython",
    "version": 3
   },
   "file_extension": ".py",
   "mimetype": "text/x-python",
   "name": "python",
   "nbconvert_exporter": "python",
   "pygments_lexer": "ipython3",
   "version": "3.10.9"
  }
 },
 "nbformat": 4,
 "nbformat_minor": 5
}
