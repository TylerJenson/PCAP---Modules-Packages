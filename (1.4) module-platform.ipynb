{
 "cells": [
  {
   "cell_type": "code",
   "execution_count": 1,
   "id": "267db7fb",
   "metadata": {},
   "outputs": [],
   "source": [
    "# the platform module shows your program's environment\n",
    "    # your code <--> running environment of Python <--> operating systems (OS) <--> hardware\n",
    "        # all of these 4 layers interact to make use of Python code"
   ]
  },
  {
   "cell_type": "code",
   "execution_count": 2,
   "id": "9c349d59",
   "metadata": {},
   "outputs": [],
   "source": [
    "# these are the functions that you need to know for the PCAP\n",
    "#   .platform() , .machine() , .processor() , .system() , .python_implementation() , .python_version_tuple() , .version()"
   ]
  },
  {
   "cell_type": "code",
   "execution_count": 3,
   "id": "df179dcc",
   "metadata": {},
   "outputs": [],
   "source": [
    "import platform"
   ]
  },
  {
   "cell_type": "code",
   "execution_count": 4,
   "id": "56d52c5b",
   "metadata": {},
   "outputs": [
    {
     "data": {
      "text/plain": [
       "'Windows-10-10.0.22621-SP0'"
      ]
     },
     "execution_count": 4,
     "metadata": {},
     "output_type": "execute_result"
    }
   ],
   "source": [
    "# the .platform() function\n",
    "    # outputs a string that displays the underlying platform\n",
    "    \n",
    "platform.platform()"
   ]
  },
  {
   "cell_type": "code",
   "execution_count": 5,
   "id": "3cedd9ad",
   "metadata": {},
   "outputs": [
    {
     "data": {
      "text/plain": [
       "'Windows-10-10.0.22621-SP0'"
      ]
     },
     "execution_count": 5,
     "metadata": {},
     "output_type": "execute_result"
    }
   ],
   "source": [
    "# the .platform() function takes 2 parameters that have default values (below)\n",
    "platform.platform(aliased = False, terse = False)\n",
    "    # these are the defaults"
   ]
  },
  {
   "cell_type": "code",
   "execution_count": 6,
   "id": "54a92e7a",
   "metadata": {},
   "outputs": [
    {
     "data": {
      "text/plain": [
       "'Windows-10'"
      ]
     },
     "execution_count": 6,
     "metadata": {},
     "output_type": "execute_result"
    }
   ],
   "source": [
    "# .platform() function; changing the defaults to 'True'\n",
    "platform.platform(True, True)\n",
    "    # you see you get a briefer output"
   ]
  },
  {
   "cell_type": "code",
   "execution_count": 7,
   "id": "6ed93ea9",
   "metadata": {},
   "outputs": [
    {
     "data": {
      "text/plain": [
       "'AMD64'"
      ]
     },
     "execution_count": 7,
     "metadata": {},
     "output_type": "execute_result"
    }
   ],
   "source": [
    "# .machine() function\n",
    "    # returns the GENERIC name of the processor that runs your OS\n",
    "    \n",
    "platform.machine()"
   ]
  },
  {
   "cell_type": "code",
   "execution_count": 8,
   "id": "33821ca6",
   "metadata": {},
   "outputs": [
    {
     "data": {
      "text/plain": [
       "'Intel64 Family 6 Model 126 Stepping 5, GenuineIntel'"
      ]
     },
     "execution_count": 8,
     "metadata": {},
     "output_type": "execute_result"
    }
   ],
   "source": [
    "# .processor() function\n",
    "    # similar to .machine()\n",
    "    # returns the REAL name of the processor that runs your OS\n",
    "\n",
    "platform.processor()"
   ]
  },
  {
   "cell_type": "code",
   "execution_count": 9,
   "id": "c71c87ae",
   "metadata": {},
   "outputs": [
    {
     "data": {
      "text/plain": [
       "'Windows'"
      ]
     },
     "execution_count": 9,
     "metadata": {},
     "output_type": "execute_result"
    }
   ],
   "source": [
    "# .system() function\n",
    "    # returns GENERIC operating system name\n",
    "    \n",
    "platform.system()"
   ]
  },
  {
   "cell_type": "code",
   "execution_count": 10,
   "id": "50fcbb32",
   "metadata": {},
   "outputs": [
    {
     "data": {
      "text/plain": [
       "'CPython'"
      ]
     },
     "execution_count": 10,
     "metadata": {},
     "output_type": "execute_result"
    }
   ],
   "source": [
    "# .python_implementation() function\n",
    "    # returns the default python implementation \n",
    "\n",
    "platform.python_implementation()"
   ]
  },
  {
   "cell_type": "code",
   "execution_count": 11,
   "id": "4a6cf406",
   "metadata": {},
   "outputs": [
    {
     "data": {
      "text/plain": [
       "('3', '10', '9')"
      ]
     },
     "execution_count": 11,
     "metadata": {},
     "output_type": "execute_result"
    }
   ],
   "source": [
    "# .python_version_tuple() function\n",
    "    # only function in the platform module that doesn't return a string\n",
    "    # returns a tuple of 3 elements\n",
    "        # 1st element --> major version of Python\n",
    "        # 2nd element --> minor version of Python\n",
    "        # 3rd element --> patch\n",
    "    \n",
    "platform.python_version_tuple()\n",
    "\n",
    "# output means the python version is 3.10.9"
   ]
  },
  {
   "cell_type": "code",
   "execution_count": 12,
   "id": "c26bebfc",
   "metadata": {},
   "outputs": [
    {
     "data": {
      "text/plain": [
       "'10.0.22621'"
      ]
     },
     "execution_count": 12,
     "metadata": {},
     "output_type": "execute_result"
    }
   ],
   "source": [
    "# .version() function\n",
    "    # returns your systems's release version as a single string\n",
    "\n",
    "platform.version()"
   ]
  },
  {
   "cell_type": "code",
   "execution_count": null,
   "id": "7bd36823",
   "metadata": {},
   "outputs": [],
   "source": []
  }
 ],
 "metadata": {
  "kernelspec": {
   "display_name": "Python 3 (ipykernel)",
   "language": "python",
   "name": "python3"
  },
  "language_info": {
   "codemirror_mode": {
    "name": "ipython",
    "version": 3
   },
   "file_extension": ".py",
   "mimetype": "text/x-python",
   "name": "python",
   "nbconvert_exporter": "python",
   "pygments_lexer": "ipython3",
   "version": "3.10.9"
  }
 },
 "nbformat": 4,
 "nbformat_minor": 5
}
